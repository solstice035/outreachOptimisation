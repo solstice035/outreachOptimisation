{
 "cells": [
  {
   "cell_type": "code",
   "execution_count": 2,
   "metadata": {},
   "outputs": [],
   "source": [
    "from dataLoadFunction import process_engagement_data\n",
    "from database_utils import create_table_if_not_exists\n",
    "from database_utils import insert_data\n",
    "import os\n",
    "import psycopg2\n",
    "import datetime\n",
    "import pandas as pd"
   ]
  },
  {
   "cell_type": "code",
   "execution_count": 5,
   "metadata": {},
   "outputs": [],
   "source": [
    "file = \"./inputData/dummyData/test_engagementData.xlsx\""
   ]
  },
  {
   "cell_type": "code",
   "execution_count": 6,
   "metadata": {},
   "outputs": [
    {
     "name": "stdout",
     "output_type": "stream",
     "text": [
      "Index(['Engagement_ID', 'Creation_Date', 'Release_Date',\n",
      "       'Last_Time_Charged_Date', 'Last_Expenses_Charged_Date',\n",
      "       'Last_Active_ETC-P_Date', 'Engagement', 'Client', 'Engagement_Partner',\n",
      "       'Engagement_Partner_GUI', 'Engagement_Manager',\n",
      "       'Engagement_Manager_GUI', 'Engagement_Partner_Service_Line',\n",
      "       'Engagement_Status'],\n",
      "      dtype='object')\n"
     ]
    }
   ],
   "source": [
    "df_raw = pd.read_excel(file)\n",
    "\n",
    "df_raw.columns = df_raw.columns.str.replace(' ', '_')\n",
    "print(df_raw.columns)"
   ]
  },
  {
   "cell_type": "code",
   "execution_count": 8,
   "metadata": {},
   "outputs": [
    {
     "name": "stderr",
     "output_type": "stream",
     "text": [
      "INFO:dataLoadFunction:File Path: ./inputData/dummyData/test_engagementData.xlsx\n",
      "INFO:dataLoadFunction:Data loaded with shape (rows and columns): (1000, 14)\n",
      "INFO:dataLoadFunction:Data loading time: 0.15 seconds\n",
      "INFO:dataLoadFunction:Data reduced to key columns only: (1000, 14)\n",
      "INFO:dataLoadFunction:Column reduction time: 0.00 seconds\n",
      "INFO:dataLoadFunction:Data filtered by EP service line and released eng. codes only. Filtered data shape: (63, 14)\n",
      "INFO:dataLoadFunction:Added calculated columns, new data shape: (63, 17) and time taken: 0.00 seconds\n"
     ]
    }
   ],
   "source": [
    "df_processed = process_engagement_data(\n",
    "    file\n",
    ")"
   ]
  },
  {
   "cell_type": "code",
   "execution_count": 9,
   "metadata": {},
   "outputs": [
    {
     "data": {
      "text/html": [
       "<div>\n",
       "<style scoped>\n",
       "    .dataframe tbody tr th:only-of-type {\n",
       "        vertical-align: middle;\n",
       "    }\n",
       "\n",
       "    .dataframe tbody tr th {\n",
       "        vertical-align: top;\n",
       "    }\n",
       "\n",
       "    .dataframe thead th {\n",
       "        text-align: right;\n",
       "    }\n",
       "</style>\n",
       "<table border=\"1\" class=\"dataframe\">\n",
       "  <thead>\n",
       "    <tr style=\"text-align: right;\">\n",
       "      <th></th>\n",
       "      <th>engagement_id</th>\n",
       "      <th>creation_date</th>\n",
       "      <th>release_date</th>\n",
       "      <th>last_time_charged_date</th>\n",
       "      <th>last_expenses_charged_date</th>\n",
       "      <th>last_active_etc-p_date</th>\n",
       "      <th>engagement</th>\n",
       "      <th>client</th>\n",
       "      <th>engagement_partner</th>\n",
       "      <th>engagement_partner_gui</th>\n",
       "      <th>engagement_manager</th>\n",
       "      <th>engagement_manager_gui</th>\n",
       "      <th>engagement_partner_service_line</th>\n",
       "      <th>engagement_status</th>\n",
       "      <th>last_etc_date</th>\n",
       "      <th>report_date</th>\n",
       "      <th>etc_age</th>\n",
       "    </tr>\n",
       "  </thead>\n",
       "  <tbody>\n",
       "    <tr>\n",
       "      <th>0</th>\n",
       "      <td>E-19987725</td>\n",
       "      <td>2024-02-03 00:00:00</td>\n",
       "      <td>2024-04-27 00:00:00</td>\n",
       "      <td>2024-06-04 00:00:00</td>\n",
       "      <td>None</td>\n",
       "      <td>2024-05-27 00:00:00</td>\n",
       "      <td>E-Enable Dynamic Eyeballs</td>\n",
       "      <td>Simpson-Manning</td>\n",
       "      <td>Marsh, Patricia</td>\n",
       "      <td>3614038</td>\n",
       "      <td>Martin, Frances</td>\n",
       "      <td>5218975</td>\n",
       "      <td>Consulting</td>\n",
       "      <td>Released</td>\n",
       "      <td>2024-05-27</td>\n",
       "      <td>2024-06-12</td>\n",
       "      <td>16</td>\n",
       "    </tr>\n",
       "    <tr>\n",
       "      <th>1</th>\n",
       "      <td>E-68169104</td>\n",
       "      <td>2023-10-30 00:00:00</td>\n",
       "      <td>2024-01-08 00:00:00</td>\n",
       "      <td>2024-05-07 00:00:00</td>\n",
       "      <td>2024-01-16 00:00:00</td>\n",
       "      <td>2024-04-14 00:00:00</td>\n",
       "      <td>Redefine Plug-And-Play Paradigms</td>\n",
       "      <td>Nicholls Inc</td>\n",
       "      <td>Lynch, Tony</td>\n",
       "      <td>1187526</td>\n",
       "      <td>Mann, Carol</td>\n",
       "      <td>2780849</td>\n",
       "      <td>Consulting</td>\n",
       "      <td>Released</td>\n",
       "      <td>2024-04-14</td>\n",
       "      <td>2024-06-12</td>\n",
       "      <td>59</td>\n",
       "    </tr>\n",
       "    <tr>\n",
       "      <th>2</th>\n",
       "      <td>E-23440196</td>\n",
       "      <td>2023-10-03 00:00:00</td>\n",
       "      <td>2023-11-18 00:00:00</td>\n",
       "      <td>2024-03-23 00:00:00</td>\n",
       "      <td>2024-02-24 00:00:00</td>\n",
       "      <td>2024-03-31 00:00:00</td>\n",
       "      <td>Implement Holistic E-Tailers</td>\n",
       "      <td>Turner, Clark and Williams</td>\n",
       "      <td>Hall, Mary</td>\n",
       "      <td>7491101</td>\n",
       "      <td>Patel, Jordan</td>\n",
       "      <td>2621635</td>\n",
       "      <td>Consulting</td>\n",
       "      <td>Released</td>\n",
       "      <td>2024-03-31</td>\n",
       "      <td>2024-06-12</td>\n",
       "      <td>73</td>\n",
       "    </tr>\n",
       "    <tr>\n",
       "      <th>3</th>\n",
       "      <td>E-64919760</td>\n",
       "      <td>2023-07-07 00:00:00</td>\n",
       "      <td>2023-09-24 00:00:00</td>\n",
       "      <td>None</td>\n",
       "      <td>2023-12-19 00:00:00</td>\n",
       "      <td>None</td>\n",
       "      <td>Scale Dynamic Partnerships</td>\n",
       "      <td>Garner Ltd</td>\n",
       "      <td>Carter, Kimberley</td>\n",
       "      <td>3948798</td>\n",
       "      <td>Sykes, Elizabeth</td>\n",
       "      <td>3177880</td>\n",
       "      <td>Consulting</td>\n",
       "      <td>Released</td>\n",
       "      <td>2023-09-24</td>\n",
       "      <td>2024-06-12</td>\n",
       "      <td>262</td>\n",
       "    </tr>\n",
       "    <tr>\n",
       "      <th>4</th>\n",
       "      <td>E-23026059</td>\n",
       "      <td>2023-12-18 00:00:00</td>\n",
       "      <td>2024-05-28 00:00:00</td>\n",
       "      <td>None</td>\n",
       "      <td>None</td>\n",
       "      <td>2024-05-30 00:00:00</td>\n",
       "      <td>Productize Bricks-And-Clicks E-Markets</td>\n",
       "      <td>Alexander, Riley and Jones</td>\n",
       "      <td>Osborne, Cameron</td>\n",
       "      <td>2409719</td>\n",
       "      <td>Bailey, Molly</td>\n",
       "      <td>4255282</td>\n",
       "      <td>Consulting</td>\n",
       "      <td>Released</td>\n",
       "      <td>2024-05-30</td>\n",
       "      <td>2024-06-12</td>\n",
       "      <td>13</td>\n",
       "    </tr>\n",
       "  </tbody>\n",
       "</table>\n",
       "</div>"
      ],
      "text/plain": [
       "  engagement_id        creation_date         release_date  \\\n",
       "0    E-19987725  2024-02-03 00:00:00  2024-04-27 00:00:00   \n",
       "1    E-68169104  2023-10-30 00:00:00  2024-01-08 00:00:00   \n",
       "2    E-23440196  2023-10-03 00:00:00  2023-11-18 00:00:00   \n",
       "3    E-64919760  2023-07-07 00:00:00  2023-09-24 00:00:00   \n",
       "4    E-23026059  2023-12-18 00:00:00  2024-05-28 00:00:00   \n",
       "\n",
       "  last_time_charged_date last_expenses_charged_date last_active_etc-p_date  \\\n",
       "0    2024-06-04 00:00:00                       None    2024-05-27 00:00:00   \n",
       "1    2024-05-07 00:00:00        2024-01-16 00:00:00    2024-04-14 00:00:00   \n",
       "2    2024-03-23 00:00:00        2024-02-24 00:00:00    2024-03-31 00:00:00   \n",
       "3                   None        2023-12-19 00:00:00                   None   \n",
       "4                   None                       None    2024-05-30 00:00:00   \n",
       "\n",
       "                               engagement                      client  \\\n",
       "0               E-Enable Dynamic Eyeballs             Simpson-Manning   \n",
       "1        Redefine Plug-And-Play Paradigms                Nicholls Inc   \n",
       "2            Implement Holistic E-Tailers  Turner, Clark and Williams   \n",
       "3              Scale Dynamic Partnerships                  Garner Ltd   \n",
       "4  Productize Bricks-And-Clicks E-Markets  Alexander, Riley and Jones   \n",
       "\n",
       "  engagement_partner  engagement_partner_gui engagement_manager  \\\n",
       "0    Marsh, Patricia                 3614038    Martin, Frances   \n",
       "1        Lynch, Tony                 1187526        Mann, Carol   \n",
       "2         Hall, Mary                 7491101      Patel, Jordan   \n",
       "3  Carter, Kimberley                 3948798   Sykes, Elizabeth   \n",
       "4   Osborne, Cameron                 2409719      Bailey, Molly   \n",
       "\n",
       "   engagement_manager_gui engagement_partner_service_line engagement_status  \\\n",
       "0                 5218975                      Consulting          Released   \n",
       "1                 2780849                      Consulting          Released   \n",
       "2                 2621635                      Consulting          Released   \n",
       "3                 3177880                      Consulting          Released   \n",
       "4                 4255282                      Consulting          Released   \n",
       "\n",
       "  last_etc_date report_date  etc_age  \n",
       "0    2024-05-27  2024-06-12       16  \n",
       "1    2024-04-14  2024-06-12       59  \n",
       "2    2024-03-31  2024-06-12       73  \n",
       "3    2023-09-24  2024-06-12      262  \n",
       "4    2024-05-30  2024-06-12       13  "
      ]
     },
     "execution_count": 9,
     "metadata": {},
     "output_type": "execute_result"
    }
   ],
   "source": [
    "df_processed.head()\n",
    "\n"
   ]
  },
  {
   "cell_type": "code",
   "execution_count": 13,
   "metadata": {},
   "outputs": [
    {
     "name": "stdout",
     "output_type": "stream",
     "text": [
      "63\n"
     ]
    }
   ],
   "source": [
    "print(df_processed.shape[0])"
   ]
  },
  {
   "cell_type": "code",
   "execution_count": null,
   "metadata": {},
   "outputs": [],
   "source": [
    "connection = psycopg2.connect(\n",
    "            dbname=os.getenv(\"DB_NAME\"),\n",
    "            user=os.getenv(\"DB_USER\"),\n",
    "            password=os.getenv(\"DB_PASSWORD\"),\n",
    "            host=os.getenv(\"DB_HOST\"),\n",
    "            port=os.getenv(\"DB_PORT\"),\n",
    "        )\n",
    "\n",
    "table_name = \"engagement_data\"\n",
    "\n",
    "# time = current system time\n",
    "now = datetime.datetime.now()  \n",
    "\n",
    "\n",
    "\n",
    "\n"
   ]
  },
  {
   "cell_type": "code",
   "execution_count": null,
   "metadata": {},
   "outputs": [],
   "source": [
    "create_table_if_not_exists(connection, table_name)\n"
   ]
  },
  {
   "cell_type": "code",
   "execution_count": null,
   "metadata": {},
   "outputs": [],
   "source": [
    "insert_data(connection, df_processed, table_name, now, upload_user=\"nick\")"
   ]
  }
 ],
 "metadata": {
  "kernelspec": {
   "display_name": ".venv",
   "language": "python",
   "name": "python3"
  },
  "language_info": {
   "codemirror_mode": {
    "name": "ipython",
    "version": 3
   },
   "file_extension": ".py",
   "mimetype": "text/x-python",
   "name": "python",
   "nbconvert_exporter": "python",
   "pygments_lexer": "ipython3",
   "version": "3.12.3"
  }
 },
 "nbformat": 4,
 "nbformat_minor": 2
}
