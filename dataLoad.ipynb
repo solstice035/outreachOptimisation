{
 "cells": [
  {
   "cell_type": "code",
   "execution_count": 1,
   "metadata": {},
   "outputs": [],
   "source": [
    "import psycopg2\n",
    "import pandas as pd\n",
    "import logging\n",
    "from dotenv import load_dotenv\n",
    "import os"
   ]
  },
  {
   "cell_type": "code",
   "execution_count": 2,
   "metadata": {},
   "outputs": [],
   "source": [
    "# Set up logging\n",
    "logging.basicConfig(\n",
    "    level=logging.INFO, format=\"%(asctime)s - %(levelname)s - %(message)s\"\n",
    ")\n",
    "logger = logging.getLogger()\n",
    "# create a log file\n",
    "fh = logging.FileHandler(\"log.log\")\n",
    "fh.setLevel(logging.INFO)\n",
    "logger.addHandler(fh)"
   ]
  },
  {
   "cell_type": "code",
   "execution_count": 3,
   "metadata": {},
   "outputs": [],
   "source": [
    "# Load .env file\n",
    "load_dotenv()\n",
    "\n",
    "# Get database connection parameters from environment variables\n",
    "dbname = os.getenv(\"DB_NAME\")\n",
    "user = os.getenv(\"DB_USER\")\n",
    "password = os.getenv(\"DB_PASSWORD\")\n",
    "host = os.getenv(\"DB_HOST\")\n",
    "port = os.getenv(\"DB_PORT\")"
   ]
  },
  {
   "cell_type": "code",
   "execution_count": 4,
   "metadata": {},
   "outputs": [
    {
     "name": "stderr",
     "output_type": "stream",
     "text": [
      "2024-06-10 18:51:41,762 - INFO - Current Working Directory: /Users/nicksolly/Dev/outreachOptimisation\n"
     ]
    },
    {
     "name": "stdout",
     "output_type": "stream",
     "text": [
      "Current Working Directory: /Users/nicksolly/Dev/outreachOptimisation\n"
     ]
    }
   ],
   "source": [
    "# Check current working directory\n",
    "current_working_directory = os.getcwd()\n",
    "logger.info(f\"Current Working Directory: {current_working_directory}\")\n",
    "print(f\"Current Working Directory: {current_working_directory}\")"
   ]
  },
  {
   "cell_type": "code",
   "execution_count": 7,
   "metadata": {},
   "outputs": [],
   "source": [
    "file_path = './inputData/PreviousWeeksEngagementLists/20240510 Engagement List.xlsx'\n",
    "# logger.info(f\"File Path: {file_path}\")"
   ]
  },
  {
   "cell_type": "code",
   "execution_count": null,
   "metadata": {},
   "outputs": [],
   "source": [
    "# Database connection\n",
    "conn = psycopg2.connect(\n",
    "    dbname=dbname,\n",
    "    user=user,\n",
    "    password=password,\n",
    "    host=host,\n",
    "    port=port\n",
    ")"
   ]
  },
  {
   "cell_type": "code",
   "execution_count": 8,
   "metadata": {},
   "outputs": [
    {
     "name": "stderr",
     "output_type": "stream",
     "text": [
      "2024-06-10 18:52:29,389 - INFO - Data loaded with shape: (19327, 312)\n"
     ]
    }
   ],
   "source": [
    "# Load the Excel data into a DataFrame\n",
    "df_raw = pd.read_excel(file_path)\n",
    "# add to logger with information of data loaded (e.g. shape, columns, etc.)\n",
    "logger.info(f\"Data loaded with shape: {df_raw.shape}\")\n",
    "# logger.info(f'Columns: {df_raw.columns}')"
   ]
  },
  {
   "cell_type": "code",
   "execution_count": 11,
   "metadata": {},
   "outputs": [
    {
     "name": "stdout",
     "output_type": "stream",
     "text": [
      "Unique Service Lines: ['CBS & Elim' 'Assurance' 'Consulting' nan 'Tax' 'Undefined' 'SaT']\n"
     ]
    }
   ],
   "source": [
    "# get unique values of the 'Engagement Partner Service Line' column\n",
    "unique_service_lines = df_raw['Engagement Partner Service Line'].unique()\n",
    "print(f\"Unique Service Lines: {unique_service_lines}\")"
   ]
  },
  {
   "cell_type": "code",
   "execution_count": null,
   "metadata": {},
   "outputs": [],
   "source": [
    "# Filter the data\n",
    "df_filtered = df_raw[\n",
    "    (df_raw[\"Engagement Partner Service Line\"] == \"Consulting\")\n",
    "    & (df_raw[\"Engagement Status\"] == \"Released\")\n",
    "]\n",
    "# add to logger with information of df_raw filtered (e.g. shape, columns, etc.)\n",
    "logger.info(f\"data filtered with shape: {df_filtered.shape}\")"
   ]
  },
  {
   "cell_type": "code",
   "execution_count": null,
   "metadata": {},
   "outputs": [],
   "source": [
    "df_filtered.head()\n",
    "# reduce columns to only the ones needed\n",
    "keep_cols = [\n",
    "    \"Engagement ID\",\n",
    "    \"Creation Date\",\n",
    "    \"Release Date\",\n",
    "    \"Last Time Charged Date\",\n",
    "    \"Last Expenses Charged Date\",\n",
    "    \"Last Active ETC-P Date\",\n",
    "    \"Engagement\",\n",
    "    \"Client\",\n",
    "    \"Engagement Partner\",\n",
    "    \"Engagement Partner GUI\",\n",
    "    \"Engagement Manager\",\n",
    "    \"Engagement Manager GUI\",\n",
    "]\n",
    "\n",
    "df_filtered= df_filtered[keep_cols]\n",
    "# add to logger with information of data reduced (e.g. shape, columns, etc.)\n",
    "logger.info(f\"Data reduced with shape: {df_filtered.shape}\")\n",
    "df_filtered.head()"
   ]
  },
  {
   "cell_type": "code",
   "execution_count": null,
   "metadata": {},
   "outputs": [],
   "source": [
    "df_filtered['Last Time Charged Date'].dtypes\n",
    "\n",
    "# Convert to datetime\n",
    "df_filtered[\"Last Time Charged Date\"] = pd.to_datetime(df_filtered[\"Last Time Charged Date\"])\n",
    "# repeat for other date columns Creation Date, Release Date, Last Expenses Charged Date, Last Active ETC-P Date\n",
    "df_filtered[\"Creation Date\"] = pd.to_datetime(df_filtered[\"Creation Date\"])\n",
    "df_filtered[\"Release Date\"] = pd.to_datetime(df_filtered[\"Release Date\"])\n",
    "df_filtered[\"Last Expenses Charged Date\"] = pd.to_datetime(df_filtered[\"Last Expenses Charged Date\"])\n",
    "df_filtered[\"Last Active ETC-P Date\"] = pd.to_datetime(df_filtered[\"Last Active ETC-P Date\"])\n"
   ]
  },
  {
   "cell_type": "code",
   "execution_count": null,
   "metadata": {},
   "outputs": [],
   "source": [
    "# add temp calculated columns:\n",
    "# fill blank values in Last ACTIVE ETC-P Date with Release Date\n",
    "df_filtered.loc[:, \"Last ETC Date\"] = df_filtered[\"Last Active ETC-P Date\"].fillna(\n",
    "    df_filtered[\"Release Date\"]\n",
    ")\n",
    "\n",
    "# Ensure 'Data Date' and 'Last ETC Date' columns are in datetime format\n",
    "df_filtered.loc[:, \"Data Date\"] = df_filtered[\"Last Time Charged Date\"].max()\n",
    "\n",
    "# ETC status calculation\n",
    "\n",
    "\n",
    "# convert last ETC date to datetime\n",
    "df_filtered[\"Last ETC Date\"] = pd.to_datetime(df_filtered[\"Last ETC Date\"])\n",
    "\n",
    "# print data types\n",
    "logger.info(f\"Data Types: {df_filtered.dtypes}\")"
   ]
  },
  {
   "cell_type": "code",
   "execution_count": null,
   "metadata": {},
   "outputs": [],
   "source": [
    "\n",
    "# Calculate the age of ETC in days using date offset\n",
    "df_filtered.loc[:, \"ETC Age\"] = (\n",
    "    df_filtered[\"Data Date\"] - df_filtered[\"Last ETC Date\"]\n",
    ").dt.days\n",
    "\n",
    "df_filtered.loc[:, \"Data Date\"] = df_filtered[\"Last Time Charged Date\"].max()\n",
    "\n",
    "# reset index\n",
    "df_filtered.reset_index(drop=True, inplace=True)\n",
    "\n",
    "df_filtered.head()"
   ]
  },
  {
   "cell_type": "code",
   "execution_count": null,
   "metadata": {},
   "outputs": [],
   "source": [
    "# are any value null in LAST ETC DATE?\n",
    "logger.info(f\"Any null values in 'Last ETC Date' column: {df_filtered['Last ETC Date'].isnull().values.any()}\")"
   ]
  },
  {
   "cell_type": "code",
   "execution_count": null,
   "metadata": {},
   "outputs": [],
   "source": [
    "# create a new table in the database\n",
    "create_table_query = \"\"\"\n",
    "CREATE TABLE IF NOT EXISTS engagement_list (\n",
    "    engagement_id VARCHAR(255),\n",
    "    creation_date DATE,\n",
    "    release_date DATE,\n",
    "    last_time_charged_date DATE,\n",
    "    last_expenses_charged_date DATE,\n",
    "    last_active_etc_p_date DATE,\n",
    "    engagement VARCHAR(255),\n",
    "    client VARCHAR(255),\n",
    "    engagement_partner VARCHAR(255),\n",
    "    engagement_partner_gui VARCHAR(255),\n",
    "    engagement_manager VARCHAR(255),\n",
    "    engagement_manager_gui VARCHAR(255),\n",
    "    last_etc_date DATE,\n",
    "    data_date DATE,\n",
    "    etc_age INT\n",
    ");\n",
    "\"\"\"\n",
    "# create a cursor object\n",
    "cur = conn.cursor()\n",
    "# execute the query to create the table\n",
    "cur.execute(create_table_query)\n",
    "# commit the transaction\n",
    "conn.commit()"
   ]
  },
  {
   "cell_type": "code",
   "execution_count": null,
   "metadata": {},
   "outputs": [],
   "source": [
    "# Function to handle NaT values\n",
    "def handle_nat(value):\n",
    "    if pd.isna(value):\n",
    "        return None\n",
    "    return value\n",
    "\n",
    "# Insert filtered data into the table with logging\n",
    "for i, row in df_filtered.iterrows():\n",
    "    try:\n",
    "        # Check if the row already exists\n",
    "        cur.execute(\n",
    "            \"\"\"\n",
    "            SELECT 1 FROM engagement_list\n",
    "            WHERE engagement_id = %s AND data_date = %s\n",
    "            \"\"\",\n",
    "            (row[\"Engagement ID\"], row[\"Data Date\"])\n",
    "        )\n",
    "        if cur.fetchone():\n",
    "            logger.info(\n",
    "                f\"Skipping row {i + 1}/{len(df_filtered)}: {row['Engagement ID']} (already exists)\"\n",
    "            )\n",
    "            continue\n",
    "\n",
    "        # Insert the row if it does not exist\n",
    "        cur.execute(\n",
    "            \"\"\"\n",
    "            INSERT INTO engagement_list (\n",
    "                engagement_id, creation_date, release_date, last_time_charged_date, last_expenses_charged_date,\n",
    "                last_active_etc_p_date, engagement, client, engagement_partner, engagement_partner_gui,\n",
    "                engagement_manager, engagement_manager_gui, last_etc_date, data_date, etc_age\n",
    "            ) VALUES (%s, %s, %s, %s, %s, %s, %s, %s, %s, %s, %s, %s, %s, %s, %s)\n",
    "            \"\"\",\n",
    "            (\n",
    "                row[\"Engagement ID\"],\n",
    "                handle_nat(row[\"Creation Date\"]),\n",
    "                handle_nat(row[\"Release Date\"]),\n",
    "                handle_nat(row[\"Last Time Charged Date\"]),\n",
    "                handle_nat(row[\"Last Expenses Charged Date\"]),\n",
    "                handle_nat(row[\"Last Active ETC-P Date\"]),\n",
    "                row[\"Engagement\"],\n",
    "                row[\"Client\"],\n",
    "                row[\"Engagement Partner\"],\n",
    "                row[\"Engagement Partner GUI\"],\n",
    "                row[\"Engagement Manager\"],\n",
    "                row[\"Engagement Manager GUI\"],\n",
    "                handle_nat(row[\"Last ETC Date\"]),\n",
    "                row[\"Data Date\"],\n",
    "                row[\"ETC Age\"],\n",
    "            ),\n",
    "        )\n",
    "        logger.info(\n",
    "            f\"Inserted row {i + 1}/{len(df_filtered)}: {row['Engagement ID']}\"\n",
    "        )\n",
    "    except psycopg2.Error as e:\n",
    "        logger.error(f\"Error inserting row {i + 1}: {e}\")\n",
    "        conn.rollback()  # Rollback the transaction to reset the state\n",
    "\n",
    "# Commit changes and close the connection\n",
    "conn.commit()\n",
    "\n",
    "logger.info(\"Data insertion completed.\")"
   ]
  },
  {
   "cell_type": "code",
   "execution_count": null,
   "metadata": {},
   "outputs": [],
   "source": [
    "# query to number of rows to check the data in the table created in the database\n",
    "cur = conn.cursor()\n",
    "cur.execute(\"SELECT COUNT(*) FROM engagement_list\")\n",
    "rows = cur.fetchone()\n",
    "logger.info(f\"Number of rows in the table: {rows[0]}\")"
   ]
  }
 ],
 "metadata": {
  "kernelspec": {
   "display_name": ".venv",
   "language": "python",
   "name": "python3"
  },
  "language_info": {
   "codemirror_mode": {
    "name": "ipython",
    "version": 3
   },
   "file_extension": ".py",
   "mimetype": "text/x-python",
   "name": "python",
   "nbconvert_exporter": "python",
   "pygments_lexer": "ipython3",
   "version": "3.12.3"
  }
 },
 "nbformat": 4,
 "nbformat_minor": 2
}
