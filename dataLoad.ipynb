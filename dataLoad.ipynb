{
 "cells": [
  {
   "cell_type": "code",
   "execution_count": null,
   "metadata": {},
   "outputs": [],
   "source": [
    "import psycopg2\n",
    "import pandas as pd\n",
    "import logging\n",
    "from dotenv import load_dotenv\n",
    "import os"
   ]
  },
  {
   "cell_type": "code",
   "execution_count": null,
   "metadata": {},
   "outputs": [],
   "source": [
    "# Set up logging\n",
    "logging.basicConfig(level=logging.INFO, format='%(asctime)s - %(levelname)s - %(message)s')\n",
    "logger = logging.getLogger()\n",
    "# create a log file\n",
    "fh = logging.FileHandler('log.log')\n",
    "fh.setLevel(logging.INFO)\n",
    "logger.addHandler(fh)\n",
    "\n",
    "\n"
   ]
  },
  {
   "cell_type": "code",
   "execution_count": null,
   "metadata": {},
   "outputs": [],
   "source": [
    "\n",
    "# Load .env file\n",
    "load_dotenv()\n",
    "\n",
    "# Get database connection parameters from environment variables\n",
    "dbname = os.getenv('DB_NAME')\n",
    "user = os.getenv('DB_USER')\n",
    "password = os.getenv('DB_PASSWORD')\n",
    "host = os.getenv('DB_HOST')\n",
    "port = os.getenv('DB_PORT')"
   ]
  },
  {
   "cell_type": "code",
   "execution_count": null,
   "metadata": {},
   "outputs": [],
   "source": [
    "# Database connection\n",
    "conn = psycopg2.connect(\n",
    "    dbname=dbname,\n",
    "    user=user,\n",
    "    password=password,\n",
    "    host=host,\n",
    "    port=port\n",
    ")"
   ]
  },
  {
   "cell_type": "code",
   "execution_count": null,
   "metadata": {},
   "outputs": [],
   "source": [
    "# Load the Excel data into a DataFrame\n",
    "data = pd.read_excel('/inputData/CurrentData/Engagement List.xlsx')\n",
    "# add to logger with information of data loaded (e.g. shape, columns, etc.)\n",
    "logger.info(f'Data loaded with shape: {data.shape}')\n",
    "logger.info(f'Columns: {data.columns}')"
   ]
  },
  {
   "cell_type": "code",
   "execution_count": null,
   "metadata": {},
   "outputs": [],
   "source": [
    "\n",
    "# Filter the data\n",
    "filtered_data = data[\n",
    "    (data['Engagement Partner Service Line'] == 'Consulting') &\n",
    "    (data['Engagement Status'] == 'Released')\n",
    "]\n",
    "# add to logger with information of data filtered (e.g. shape, columns, etc.)\n",
    "logger.info(f'Data filtered with shape: {filtered_data.shape}')\n",
    "\n",
    "# Extract the max date for 'last_time_charged_date'\n",
    "data_date = filtered_data['Last Time Charged Date'].max()\n",
    "# add to logger with information of data_date\n",
    "logger.info(f'Max date for \"Last Time Charged Date\": {data_date}')"
   ]
  },
  {
   "cell_type": "code",
   "execution_count": null,
   "metadata": {},
   "outputs": [],
   "source": [
    "# Establish a cursor object\n",
    "cur = conn.cursor()\n",
    "\n",
    "# Insert filtered data into the table with logging\n",
    "for i, row in filtered_data.iterrows():\n",
    "    try:\n",
    "        cur.execute('''\n",
    "        INSERT INTO engagements (\n",
    "            engagement_id, engagement_creation_date, release_date, last_time_charged_date, last_expenses_charged_date,\n",
    "            load_date, last_active_etc_p_date, weeks_since_last_etc, etc_compliance_status, data_date,\n",
    "            engagement, client, engagement_partner_name, engagement_partner_gui, engagement_manager_name, engagement_manager_gui\n",
    "        ) VALUES (%s, %s, %s, %s, %s, DEFAULT, %s, %s, %s, %s, %s, %s, %s, %s, %s, %s)\n",
    "        ON CONFLICT (engagement_id) DO NOTHING;\n",
    "        ''', (\n",
    "            row['Engagement ID'], row['Engagement Creation Date'], row['Release Date'], row['Last Time Charged Date'], row['Last Expenses Charged Date'],\n",
    "            row['Last Active ETC-P Date'], row['Weeks Since Last ETC'], row['ETC Compliance Status'], data_date,\n",
    "            row['Engagement'], row['Client'], row['Engagement Partner Name'], row['Engagement Partner GUI'], row['Engagement Manager Name'], row['Engagement Manager GUI']\n",
    "        ))\n",
    "        logger.info(f\"Inserted row {i + 1}/{len(filtered_data)}: {row['Engagement ID']}\")\n",
    "    except psycopg2.errors.UniqueViolation:\n",
    "        logger.warning(f\"Conflict detected for Engagement ID: {row['Engagement ID']}\")\n",
    "\n",
    "# Commit changes and close the connection\n",
    "conn.commit()\n",
    "cur.close()\n",
    "conn.close()\n",
    "\n",
    "logger.info(\"Data insertion completed.\")"
   ]
  }
 ],
 "metadata": {
  "kernelspec": {
   "display_name": ".venv",
   "language": "python",
   "name": "python3"
  },
  "language_info": {
   "name": "python",
   "version": "3.12.3"
  }
 },
 "nbformat": 4,
 "nbformat_minor": 2
}
