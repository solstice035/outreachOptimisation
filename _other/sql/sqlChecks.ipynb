{
    "metadata": {
        "kernelspec": {
            "name": "SQL",
            "display_name": "SQL",
            "language": "sql"
        },
        "language_info": {
            "name": "sql",
            "version": ""
        }
    },
    "nbformat_minor": 2,
    "nbformat": 4,
    "cells": [
        {
            "cell_type": "code",
            "source": [
                "\n",
                "SELECT \n",
                "    r.upload_timestamp as time,\n",
                "    count(r.engagement_id) as rows\n",
                "from engagement_data_raw AS r\n",
                "GROUP BY r.upload_timestamp"
            ],
            "metadata": {
                "azdata_cell_guid": "699659dc-48f7-4643-b765-8baf1df8290e",
                "language": "sql"
            },
            "outputs": [
                {
                    "output_type": "display_data",
                    "data": {
                        "text/html": "(4 row(s) affected)"
                    },
                    "metadata": {}
                },
                {
                    "output_type": "display_data",
                    "data": {
                        "text/html": "Total execution time: 00:00:00.005"
                    },
                    "metadata": {}
                },
                {
                    "output_type": "execute_result",
                    "metadata": {},
                    "execution_count": 6,
                    "data": {
                        "application/vnd.dataresource+json": {
                            "schema": {
                                "fields": [
                                    {
                                        "name": "time"
                                    },
                                    {
                                        "name": "rows"
                                    }
                                ]
                            },
                            "data": [
                                {
                                    "time": "NULL",
                                    "rows": "5000"
                                },
                                {
                                    "time": "2024-06-19 08:22:02",
                                    "rows": "2000"
                                },
                                {
                                    "time": "2024-06-19 08:23:23",
                                    "rows": "4104"
                                },
                                {
                                    "time": "2024-06-19 08:23:24",
                                    "rows": "896"
                                }
                            ]
                        },
                        "text/html": [
                            "<table>",
                            "<tr><th>time</th><th>rows</th></tr>",
                            "<tr><td>NULL</td><td>5000</td></tr>",
                            "<tr><td>2024-06-19 08:22:02</td><td>2000</td></tr>",
                            "<tr><td>2024-06-19 08:23:23</td><td>4104</td></tr>",
                            "<tr><td>2024-06-19 08:23:24</td><td>896</td></tr>",
                            "</table>"
                        ]
                    }
                }
            ],
            "execution_count": 6
        },
        {
            "cell_type": "code",
            "source": [
                "SELECT \n",
                "    r.upload_timestamp as time,\n",
                "    count(r.engagement_id) as rows,\n",
                "    count(\n",
                "        SELECT * from engagement_data_raw WHERE engagement_status = 'Released'\n",
                "        ) AS released \n",
                "from engagement_data_raw AS r\n",
                "GROUP BY r.upload_timestamp"
            ],
            "metadata": {
                "language": "sql",
                "azdata_cell_guid": "a211154f-684c-4fe3-9a98-d471767e8fae"
            },
            "outputs": [
                {
                    "output_type": "error",
                    "evalue": "syntax error at or near \"SELECT\"",
                    "ename": "",
                    "traceback": []
                },
                {
                    "output_type": "display_data",
                    "data": {
                        "text/html": "Total execution time: 00:00:00"
                    },
                    "metadata": {}
                }
            ],
            "execution_count": 9
        },
        {
            "cell_type": "code",
            "source": [
                "SELECT \n",
                "    r.upload_timestamp AS time,\n",
                "    COUNT(*) AS consutling\n",
                "FROM engagement_data_raw AS r \n",
                "WHERE r.engagement_status = 'Released' \n",
                "    AND r.engagement_partner_service_line = 'Consulting'\n",
                "GROUP BY time\n",
                ""
            ],
            "metadata": {
                "language": "sql",
                "azdata_cell_guid": "6115e064-d757-47fc-aea1-8ba2539a307b"
            },
            "outputs": [
                {
                    "output_type": "display_data",
                    "data": {
                        "text/html": "(4 row(s) affected)"
                    },
                    "metadata": {}
                },
                {
                    "output_type": "display_data",
                    "data": {
                        "text/html": "Total execution time: 00:00:00.005"
                    },
                    "metadata": {}
                },
                {
                    "output_type": "execute_result",
                    "metadata": {},
                    "execution_count": 26,
                    "data": {
                        "application/vnd.dataresource+json": {
                            "schema": {
                                "fields": [
                                    {
                                        "name": "time"
                                    },
                                    {
                                        "name": "consutling"
                                    }
                                ]
                            },
                            "data": [
                                {
                                    "time": "NULL",
                                    "consutling": "304"
                                },
                                {
                                    "time": "2024-06-19 08:22:02",
                                    "consutling": "131"
                                },
                                {
                                    "time": "2024-06-19 08:23:23",
                                    "consutling": "278"
                                },
                                {
                                    "time": "2024-06-19 08:23:24",
                                    "consutling": "52"
                                }
                            ]
                        },
                        "text/html": [
                            "<table>",
                            "<tr><th>time</th><th>consutling</th></tr>",
                            "<tr><td>NULL</td><td>304</td></tr>",
                            "<tr><td>2024-06-19 08:22:02</td><td>131</td></tr>",
                            "<tr><td>2024-06-19 08:23:23</td><td>278</td></tr>",
                            "<tr><td>2024-06-19 08:23:24</td><td>52</td></tr>",
                            "</table>"
                        ]
                    }
                }
            ],
            "execution_count": 26
        }
    ]
}